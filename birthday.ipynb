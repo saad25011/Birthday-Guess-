{
 "cells": [
  {
   "cell_type": "code",
   "execution_count": 1,
   "metadata": {},
   "outputs": [
    {
     "name": "stdout",
     "output_type": "stream",
     "text": [
      "You have only three chance to guess the birthday !\n",
      "guess is high\n",
      "guess is high\n",
      "Program end!\n",
      "Correct answer is:  5\n"
     ]
    }
   ],
   "source": [
    "import random\n",
    "n = random.randint(1, 100)\n",
    "print(\"You have only three chance to guess the birthday !\")\n",
    "guess = int(input(\"Enter an integer from 1 to 100: \"))\n",
    "count = 0\n",
    "while n != \"guess\" and count < 2:\n",
    "    count +=1\n",
    "    if guess < n:\n",
    "        print (\"guess is low\")\n",
    "        guess = int(input(\"Enter an integer from 1 to 99: \"))\n",
    "    elif guess > n:\n",
    "        print (\"guess is high\")\n",
    "        guess = int(input(\"Enter an integer from 1 to 99: \"))\n",
    "    elif guess == n:\n",
    "        print (\"you guessed it!\")\n",
    "        break\n",
    "if count == 2:\n",
    "    print(\"Program end!\")\n",
    "print(\"Correct answer is: \",n)"
   ]
  }
 ],
 "metadata": {
  "kernelspec": {
   "display_name": "Python 3.9.12 ('base')",
   "language": "python",
   "name": "python3"
  },
  "language_info": {
   "codemirror_mode": {
    "name": "ipython",
    "version": 3
   },
   "file_extension": ".py",
   "mimetype": "text/x-python",
   "name": "python",
   "nbconvert_exporter": "python",
   "pygments_lexer": "ipython3",
   "version": "3.9.12"
  },
  "orig_nbformat": 4,
  "vscode": {
   "interpreter": {
    "hash": "72ac9bc46bde6907b0b214775265cce7138316dca095cf7184d5960928905317"
   }
  }
 },
 "nbformat": 4,
 "nbformat_minor": 2
}
